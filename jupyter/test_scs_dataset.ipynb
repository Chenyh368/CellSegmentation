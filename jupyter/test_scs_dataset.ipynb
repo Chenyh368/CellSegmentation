{
 "cells": [
  {
   "cell_type": "code",
   "execution_count": 1,
   "metadata": {
    "collapsed": true
   },
   "outputs": [
    {
     "name": "stderr",
     "output_type": "stream",
     "text": [
      "2023-07-28 17:21:26.637457: I tensorflow/core/platform/cpu_feature_guard.cc:182] This TensorFlow binary is optimized to use available CPU instructions in performance-critical operations.\n",
      "To enable the following instructions: AVX2 AVX512F FMA, in other operations, rebuild TensorFlow with the appropriate compiler flags.\n",
      "2023-07-28 17:21:27.948347: W tensorflow/compiler/tf2tensorrt/utils/py_utils.cc:38] TF-TRT Warning: Could not find TensorRT\n"
     ]
    },
    {
     "name": "stdout",
     "output_type": "stream",
     "text": [
      "======> UID of this run: 230728-172129-wpflaq\n",
      "run_number : 0\n",
      "Directory /import/home2/yhchenmath/Log/CellSeg/SCS/UNDEFINED/0 exists, please choose an option:\n",
      "Old files deleted.\n",
      "======> Directory for this run: /import/home2/yhchenmath/Log/CellSeg/SCS/UNDEFINED/0\n",
      "2023-07-28 17:21:31,417 INFO Opts: Namespace(dataset={'name': 'scs_mouse_brain', 'loc': 'SCS', 'patch_size': 1200, 'bin_size': 3, 'n_neighbor': 50, 'batch_size': 64, 'max_patch_num': 2}, model={'name': 'scs', 'use_amp': False, 'use_sam': False, 'arch': {}, 'optimizer': {'name': 'adamw', 'lr': 0.001, 'weight_decay': 5e-05, 'schedulers': None}}, gpu='0', code_dir='./', data_dir='/import/home2/yhchenmath/Dataset/CellSeg', log_dir='/import/home2/yhchenmath/Log/CellSeg', exp_name='SCS', run_name='UNDEFINED', run_number='0', seed=0, option_for_existing_dir=None, load_json=True, json_path='./configs/mouse_adult_brain.json', mode='train', uid='230728-172129-wpflaq')\n"
     ]
    }
   ],
   "source": [
    "import torch\n",
    "import os\n",
    "\n",
    "os.chdir('/import/home2/yhchenmath/Code/CellSegmentation/')\n",
    "\n",
    "from utils.experiman import ExperiMan\n",
    "from options import Options, HParams\n",
    "\n",
    "manager = ExperiMan(name='default')\n",
    "parser = manager.get_basic_arg_parser()\n",
    "opt = Options(parser).parse()  # get training options\n",
    "manager.setup(opt)\n",
    "opt = HParams(**vars(opt))"
   ]
  },
  {
   "cell_type": "code",
   "execution_count": 2,
   "outputs": [
    {
     "name": "stderr",
     "output_type": "stream",
     "text": [
      "/home/yhchenmath/anaconda3/envs/cellseg/lib/python3.9/site-packages/libpysal/cg/alpha_shapes.py:39: NumbaDeprecationWarning:\n",
      "\n",
      "The 'nopython' keyword argument was not supplied to the 'numba.jit' decorator. The implicit default value for this argument is currently False, but it will be changed to True in Numba 0.59.0. See https://numba.readthedocs.io/en/stable/reference/deprecation.html#deprecation-of-object-mode-fall-back-behaviour-when-using-jit for details.\n",
      "\n",
      "/home/yhchenmath/anaconda3/envs/cellseg/lib/python3.9/site-packages/libpysal/cg/alpha_shapes.py:165: NumbaDeprecationWarning:\n",
      "\n",
      "The 'nopython' keyword argument was not supplied to the 'numba.jit' decorator. The implicit default value for this argument is currently False, but it will be changed to True in Numba 0.59.0. See https://numba.readthedocs.io/en/stable/reference/deprecation.html#deprecation-of-object-mode-fall-back-behaviour-when-using-jit for details.\n",
      "\n",
      "/home/yhchenmath/anaconda3/envs/cellseg/lib/python3.9/site-packages/libpysal/cg/alpha_shapes.py:199: NumbaDeprecationWarning:\n",
      "\n",
      "The 'nopython' keyword argument was not supplied to the 'numba.jit' decorator. The implicit default value for this argument is currently False, but it will be changed to True in Numba 0.59.0. See https://numba.readthedocs.io/en/stable/reference/deprecation.html#deprecation-of-object-mode-fall-back-behaviour-when-using-jit for details.\n",
      "\n",
      "/home/yhchenmath/anaconda3/envs/cellseg/lib/python3.9/site-packages/libpysal/cg/alpha_shapes.py:261: NumbaDeprecationWarning:\n",
      "\n",
      "The 'nopython' keyword argument was not supplied to the 'numba.jit' decorator. The implicit default value for this argument is currently False, but it will be changed to True in Numba 0.59.0. See https://numba.readthedocs.io/en/stable/reference/deprecation.html#deprecation-of-object-mode-fall-back-behaviour-when-using-jit for details.\n",
      "\n",
      "/home/yhchenmath/anaconda3/envs/cellseg/lib/python3.9/site-packages/spaghetti/network.py:40: FutureWarning:\n",
      "\n",
      "The next major release of pysal/spaghetti (2.0.0) will drop support for all ``libpysal.cg`` geometries. This change is a first step in refactoring ``spaghetti`` that is expected to result in dramatically reduced runtimes for network instantiation and operations. Users currently requiring network and point pattern input as ``libpysal.cg`` geometries should prepare for this simply by converting to ``shapely`` geometries.\n",
      "\n"
     ]
    },
    {
     "name": "stdout",
     "output_type": "stream",
     "text": [
      "|-----> Constructing count matrices.\n",
      "|-----> <insert> __type to uns in AnnData Object.\n",
      "|-----> <insert> pp to uns in AnnData Object.\n",
      "|-----> <insert> spatial to uns in AnnData Object.\n",
      "2023-07-28 17:23:03,828 INFO ======> 108 patches will be processed.\n",
      "|-----> <select> stain layer in AnnData Object\n",
      "|-----> <select> unspliced layer in AnnData Object\n",
      "|-----> Refining alignment in rigid mode.\n"
     ]
    },
    {
     "name": "stderr",
     "output_type": "stream",
     "text": [
      "Loss nan: 100%|████████████████████████████████████████████████████████████████████████| 100/100 [00:20<00:00,  4.83it/s]"
     ]
    },
    {
     "name": "stdout",
     "output_type": "stream",
     "text": [
      "|-----> Transforming layers ['stain']\n",
      "|-----> <select> stain layer in AnnData Object\n"
     ]
    },
    {
     "name": "stderr",
     "output_type": "stream",
     "text": [
      "\n"
     ]
    },
    {
     "name": "stdout",
     "output_type": "stream",
     "text": [
      "|-----> <insert> stain to layers in AnnData Object.\n",
      "|-----> <select> stain layer in AnnData Object\n",
      "|-----> Constructing nuclei mask from staining image.\n",
      "After discretization into bins, the input image has only 1 different values. It cannot be thresholded in 4 classes. If there are more unique values before discretization, try increasing the number of bins (`nbins`).\n",
      "2023-07-28 17:23:27,181 INFO ======> Patch 0:0 failed. This could be due to no nuclei detected by Watershed or too few RNAs in the patch.\n",
      "|-----> <select> stain layer in AnnData Object\n",
      "|-----> <select> unspliced layer in AnnData Object\n",
      "|-----> Refining alignment in rigid mode.\n"
     ]
    },
    {
     "name": "stderr",
     "output_type": "stream",
     "text": [
      "Loss nan: 100%|████████████████████████████████████████████████████████████████████████| 100/100 [00:25<00:00,  3.91it/s]"
     ]
    },
    {
     "name": "stdout",
     "output_type": "stream",
     "text": [
      "|-----> Transforming layers ['stain']\n",
      "|-----> <select> stain layer in AnnData Object\n"
     ]
    },
    {
     "name": "stderr",
     "output_type": "stream",
     "text": [
      "\n"
     ]
    },
    {
     "name": "stdout",
     "output_type": "stream",
     "text": [
      "|-----> <insert> stain to layers in AnnData Object.\n",
      "|-----> <select> stain layer in AnnData Object\n",
      "|-----> Constructing nuclei mask from staining image.\n",
      "After discretization into bins, the input image has only 1 different values. It cannot be thresholded in 4 classes. If there are more unique values before discretization, try increasing the number of bins (`nbins`).\n",
      "2023-07-28 17:23:53,037 INFO ======> Patch 0:1200 failed. This could be due to no nuclei detected by Watershed or too few RNAs in the patch.\n",
      "|-----> <select> stain layer in AnnData Object\n",
      "|-----> <select> unspliced layer in AnnData Object\n",
      "|-----> Refining alignment in rigid mode.\n"
     ]
    },
    {
     "name": "stderr",
     "output_type": "stream",
     "text": [
      "Loss -6.8406e-05: 100%|████████████████████████████████████████████████████████████████| 100/100 [00:25<00:00,  3.93it/s]"
     ]
    },
    {
     "name": "stdout",
     "output_type": "stream",
     "text": [
      "|-----> Transforming layers ['stain']\n",
      "|-----> <select> stain layer in AnnData Object\n"
     ]
    },
    {
     "name": "stderr",
     "output_type": "stream",
     "text": [
      "\n"
     ]
    },
    {
     "name": "stdout",
     "output_type": "stream",
     "text": [
      "|-----> <insert> stain to layers in AnnData Object.\n",
      "|-----> <select> stain layer in AnnData Object\n",
      "|-----> Constructing nuclei mask from staining image.\n",
      "|-----> <insert> stain_mask to layers in AnnData Object.\n",
      "|-----> <select> stain_mask layer in AnnData Object\n",
      "|-----> Finding peaks with minimum distance 7.\n",
      "|-----> <insert> stain_distances to layers in AnnData Object.\n",
      "|-----> <insert> stain_markers to layers in AnnData Object.\n",
      "|-----> <select> stain layer in AnnData Object\n",
      "|-----> <select> stain_mask layer in AnnData Object\n",
      "|-----> <select> stain_markers layer in AnnData Object\n",
      "|-----> Running Watershed.\n",
      "|-----> <insert> watershed_labels to layers in AnnData Object.\n"
     ]
    },
    {
     "name": "stderr",
     "output_type": "stream",
     "text": [
      "/home/yhchenmath/anaconda3/envs/cellseg/lib/python3.9/site-packages/anndata/_core/anndata.py:117: ImplicitModificationWarning:\n",
      "\n",
      "Transforming to str index.\n",
      "\n",
      "/home/yhchenmath/anaconda3/envs/cellseg/lib/python3.9/site-packages/anndata/_core/anndata.py:117: ImplicitModificationWarning:\n",
      "\n",
      "Transforming to str index.\n",
      "\n"
     ]
    },
    {
     "name": "stdout",
     "output_type": "stream",
     "text": [
      "need at least one array to concatenate\n",
      "2023-07-28 17:27:14,650 INFO ======> Patch 0:2400 failed. This could be due to no nuclei detected by Watershed or too few RNAs in the patch.\n",
      "|-----> <select> stain layer in AnnData Object\n",
      "|-----> <select> unspliced layer in AnnData Object\n",
      "|-----> Refining alignment in rigid mode.\n"
     ]
    },
    {
     "name": "stderr",
     "output_type": "stream",
     "text": [
      "Loss -8.0147e-03: 100%|████████████████████████████████████████████████████████████████| 100/100 [00:04<00:00, 21.03it/s]"
     ]
    },
    {
     "name": "stdout",
     "output_type": "stream",
     "text": [
      "|-----> Transforming layers ['stain']\n",
      "|-----> <select> stain layer in AnnData Object\n"
     ]
    },
    {
     "name": "stderr",
     "output_type": "stream",
     "text": [
      "\n"
     ]
    },
    {
     "name": "stdout",
     "output_type": "stream",
     "text": [
      "|-----> <insert> stain to layers in AnnData Object.\n",
      "|-----> <select> stain layer in AnnData Object\n",
      "|-----> Constructing nuclei mask from staining image.\n",
      "|-----> <insert> stain_mask to layers in AnnData Object.\n",
      "|-----> <select> stain_mask layer in AnnData Object\n",
      "|-----> Finding peaks with minimum distance 7.\n",
      "|-----> <insert> stain_distances to layers in AnnData Object.\n",
      "|-----> <insert> stain_markers to layers in AnnData Object.\n",
      "|-----> <select> stain layer in AnnData Object\n",
      "|-----> <select> stain_mask layer in AnnData Object\n",
      "|-----> <select> stain_markers layer in AnnData Object\n",
      "|-----> Running Watershed.\n",
      "|-----> <insert> watershed_labels to layers in AnnData Object.\n"
     ]
    },
    {
     "name": "stderr",
     "output_type": "stream",
     "text": [
      "/home/yhchenmath/anaconda3/envs/cellseg/lib/python3.9/site-packages/anndata/_core/anndata.py:117: ImplicitModificationWarning:\n",
      "\n",
      "Transforming to str index.\n",
      "\n",
      "/home/yhchenmath/anaconda3/envs/cellseg/lib/python3.9/site-packages/anndata/_core/anndata.py:117: ImplicitModificationWarning:\n",
      "\n",
      "Transforming to str index.\n",
      "\n"
     ]
    },
    {
     "name": "stdout",
     "output_type": "stream",
     "text": [
      "|-----> <select> stain layer in AnnData Object\n",
      "|-----> <select> unspliced layer in AnnData Object\n",
      "|-----> Refining alignment in rigid mode.\n"
     ]
    },
    {
     "name": "stderr",
     "output_type": "stream",
     "text": [
      "Loss -1.0494e-02: 100%|████████████████████████████████████████████████████████████████| 100/100 [00:05<00:00, 19.87it/s]"
     ]
    },
    {
     "name": "stdout",
     "output_type": "stream",
     "text": [
      "|-----> Transforming layers ['stain']\n",
      "|-----> <select> stain layer in AnnData Object\n",
      "|-----> <insert> stain to layers in AnnData Object.\n",
      "|-----> <select> stain layer in AnnData Object\n"
     ]
    },
    {
     "name": "stderr",
     "output_type": "stream",
     "text": [
      "\n"
     ]
    },
    {
     "name": "stdout",
     "output_type": "stream",
     "text": [
      "|-----> Constructing nuclei mask from staining image.\n",
      "|-----> <insert> stain_mask to layers in AnnData Object.\n",
      "|-----> <select> stain_mask layer in AnnData Object\n",
      "|-----> Finding peaks with minimum distance 7.\n",
      "|-----> <insert> stain_distances to layers in AnnData Object.\n",
      "|-----> <insert> stain_markers to layers in AnnData Object.\n",
      "|-----> <select> stain layer in AnnData Object\n",
      "|-----> <select> stain_mask layer in AnnData Object\n",
      "|-----> <select> stain_markers layer in AnnData Object\n",
      "|-----> Running Watershed.\n",
      "|-----> <insert> watershed_labels to layers in AnnData Object.\n"
     ]
    },
    {
     "name": "stderr",
     "output_type": "stream",
     "text": [
      "/home/yhchenmath/anaconda3/envs/cellseg/lib/python3.9/site-packages/anndata/_core/anndata.py:117: ImplicitModificationWarning:\n",
      "\n",
      "Transforming to str index.\n",
      "\n",
      "/home/yhchenmath/anaconda3/envs/cellseg/lib/python3.9/site-packages/anndata/_core/anndata.py:117: ImplicitModificationWarning:\n",
      "\n",
      "Transforming to str index.\n",
      "\n"
     ]
    }
   ],
   "source": [
    "from data import find_dataset_using_name\n",
    "dataset = find_dataset_using_name(dataset_name=opt.dataset.name)(opt, manager)"
   ],
   "metadata": {
    "collapsed": false
   }
  },
  {
   "cell_type": "code",
   "execution_count": 7,
   "outputs": [],
   "source": [
    "dataset = dataset.patch_dataset_list[0]"
   ],
   "metadata": {
    "collapsed": false
   }
  },
  {
   "cell_type": "code",
   "execution_count": 10,
   "outputs": [],
   "source": [
    "dataset.set_mode('train')"
   ],
   "metadata": {
    "collapsed": false
   }
  }
 ],
 "metadata": {
  "kernelspec": {
   "display_name": "Python 3",
   "language": "python",
   "name": "python3"
  },
  "language_info": {
   "codemirror_mode": {
    "name": "ipython",
    "version": 2
   },
   "file_extension": ".py",
   "mimetype": "text/x-python",
   "name": "python",
   "nbconvert_exporter": "python",
   "pygments_lexer": "ipython2",
   "version": "2.7.6"
  }
 },
 "nbformat": 4,
 "nbformat_minor": 0
}
