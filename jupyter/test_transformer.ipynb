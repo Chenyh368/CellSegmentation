{
 "cells": [
  {
   "cell_type": "code",
   "execution_count": 7,
   "metadata": {
    "collapsed": true
   },
   "outputs": [],
   "source": [
    "from torch import nn\n",
    "\n",
    "class PatchEncoder(nn.Module):\n",
    "    def __init__(self, input_shape, input_position_shape, projection_dim):\n",
    "        super(PatchEncoder, self).__init__()\n",
    "        self.projection = nn.Linear(input_shape, projection_dim)\n",
    "        self.position_embedding = nn.Linear(input_position_shape, projection_dim)\n",
    "\n",
    "    def forward(self, patch, position):\n",
    "        return (self.projection(patch) + self.position_embedding(position))\n",
    "\n",
    "\n",
    "class SCSTransformer(nn.Module):\n",
    "    def __init__(self,class_num, input_shape, input_position_shape, projection_dim, num_heads, transformer_units, transformer_layers, mlp_head_units):\n",
    "        super(SCSTransformer, self).__init__()\n",
    "        self.patch_encoder = PatchEncoder(input_shape, input_position_shape, projection_dim)\n",
    "\n",
    "        self.transformer_layer = nn.TransformerEncoderLayer(d_model=projection_dim, nhead=num_heads,\n",
    "                                                            dim_feedforward = transformer_units, dropout=0.1, layer_norm_eps=1e-6)\n",
    "\n",
    "        self.transformer_encoder = nn.TransformerEncoder(self.transformer_layer, transformer_layers)\n",
    "\n",
    "        # Create a [batch_size, projection_dim] tensor.\n",
    "        self.norm_cls = nn.LayerNorm(projection_dim, eps=1e-6)\n",
    "        self.feature_cls = nn.Sequential(\n",
    "            nn.Linear(projection_dim, mlp_head_units),\n",
    "            nn.Dropout(0.5)\n",
    "        )\n",
    "        # Classifier\n",
    "        self.pos = nn.Linear(mlp_head_units, class_num)\n",
    "        self.binary = nn.Linear(mlp_head_units, 1)\n",
    "\n",
    "    def forward(self, inputs, inputs_positions):\n",
    "        x = self.patch_encoder(inputs, inputs_positions)\n",
    "        x = self.transformer_encoder(x)\n",
    "        x = self.norm_cls(x)\n",
    "        feature = self.feature_cls(self.norm_cls(x)[:,0,:])\n",
    "        return {'pos': self.pos(feature), 'binary':self.binary(feature)}"
   ]
  },
  {
   "cell_type": "code",
   "execution_count": 8,
   "outputs": [],
   "source": [
    "import torch\n",
    "input = torch.randn((10,50,2000))\n",
    "position = torch.randn((10,50,2))"
   ],
   "metadata": {
    "collapsed": false
   }
  },
  {
   "cell_type": "code",
   "execution_count": 9,
   "outputs": [],
   "source": [
    "model = SCSTransformer(class_num = 16, input_shape = 2000, input_position_shape=2, projection_dim=512, num_heads=8, transformer_units=512, transformer_layers=6, mlp_head_units=512)"
   ],
   "metadata": {
    "collapsed": false
   }
  },
  {
   "cell_type": "code",
   "execution_count": 13,
   "outputs": [
    {
     "data": {
      "text/plain": "torch.Size([10, 16])"
     },
     "execution_count": 13,
     "metadata": {},
     "output_type": "execute_result"
    }
   ],
   "source": [
    "model(input, position)['pos'].shape"
   ],
   "metadata": {
    "collapsed": false
   }
  },
  {
   "cell_type": "code",
   "execution_count": 15,
   "outputs": [
    {
     "data": {
      "text/plain": "torch.Size([10, 1])"
     },
     "execution_count": 15,
     "metadata": {},
     "output_type": "execute_result"
    }
   ],
   "source": [
    "model(input, position)['binary'].shape"
   ],
   "metadata": {
    "collapsed": false
   }
  },
  {
   "cell_type": "code",
   "execution_count": 14,
   "outputs": [],
   "source": [
    "loss = nn.CrossEntropyLoss()"
   ],
   "metadata": {
    "collapsed": false
   }
  },
  {
   "cell_type": "code",
   "execution_count": null,
   "outputs": [],
   "source": [
    "input = torch.randn(3, 5, requires_grad=True)"
   ],
   "metadata": {
    "collapsed": false
   }
  },
  {
   "cell_type": "code",
   "execution_count": 19,
   "outputs": [],
   "source": [
    "x,y = [1,2]"
   ],
   "metadata": {
    "collapsed": false
   }
  }
 ],
 "metadata": {
  "kernelspec": {
   "display_name": "Python 3",
   "language": "python",
   "name": "python3"
  },
  "language_info": {
   "codemirror_mode": {
    "name": "ipython",
    "version": 2
   },
   "file_extension": ".py",
   "mimetype": "text/x-python",
   "name": "python",
   "nbconvert_exporter": "python",
   "pygments_lexer": "ipython2",
   "version": "2.7.6"
  }
 },
 "nbformat": 4,
 "nbformat_minor": 0
}
